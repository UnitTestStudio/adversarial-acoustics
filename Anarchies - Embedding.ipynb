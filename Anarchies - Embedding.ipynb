{
  "nbformat": 4,
  "nbformat_minor": 0,
  "metadata": {
    "colab": {
      "provenance": [],
      "collapsed_sections": [
        "JCA2oQXtzgVK"
      ]
    },
    "kernelspec": {
      "name": "python3",
      "display_name": "Python 3"
    },
    "language_info": {
      "name": "python"
    }
  },
  "cells": [
    {
      "cell_type": "markdown",
      "source": [
        "# Adversarial Acoustics - Embeddings\n",
        "\n",
        "This notebook walks you through creating embeddings of your voice. In particular we want you to explore how difference in represented in the embedding space and how this compares to a perceptual and socially constructed understanding of difference. \n",
        "\n",
        "In this notebook we will use code from the [Resemblyzer](https://github.com/resemble-ai/Resemblyzer) Github repo. You can find more on Resemblyzer in the embeddings further material frame in the workshop Figjam. The repo provides several other machine learning methods for voice analysis worth exploring.\n",
        "\n",
        ">Resemblyzer allows you to derive a **high-level representation of a voice** through a deep learning model (referred to as the voice encoder). Given an audio file of speech, it creates a summary vector of 256 values (an embedding, often shortened to \"embed\" in this repo) that summarizes the characteristics of the voice spoken.\n"
      ],
      "metadata": {
        "id": "_5NVh96_5XYG"
      }
    },
    {
      "cell_type": "markdown",
      "source": [
        "## Setup\n",
        "Cloning the Resemblyzer repo, installing and importing prerequisite libraries"
      ],
      "metadata": {
        "id": "JCA2oQXtzgVK"
      }
    },
    {
      "cell_type": "code",
      "source": [
        "!git clone https://github.com/resemble-ai/Resemblyzer.git\n",
        "!pip install -r /content/Resemblyzer/requirements_demos.txt\n",
        "!pip install -r /content/Resemblyzer/requirements_package.txt\n",
        "!pip install ffmpeg-python"
      ],
      "metadata": {
        "colab": {
          "base_uri": "https://localhost:8080/"
        },
        "id": "MpJy4Zev6K3C",
        "outputId": "c17fa715-7677-4675-c7d4-a25748a66855"
      },
      "execution_count": null,
      "outputs": [
        {
          "output_type": "stream",
          "name": "stdout",
          "text": [
            "Cloning into 'Resemblyzer'...\n",
            "remote: Enumerating objects: 608, done.\u001b[K\n",
            "remote: Counting objects: 100% (6/6), done.\u001b[K\n",
            "remote: Compressing objects: 100% (5/5), done.\u001b[K\n",
            "remote: Total 608 (delta 1), reused 6 (delta 1), pack-reused 602\u001b[K\n",
            "Receiving objects: 100% (608/608), 101.47 MiB | 38.61 MiB/s, done.\n",
            "Resolving deltas: 100% (108/108), done.\n",
            "Looking in indexes: https://pypi.org/simple, https://us-python.pkg.dev/colab-wheels/public/simple/\n",
            "Collecting librosa>=0.9.1\n",
            "  Downloading librosa-0.9.2-py3-none-any.whl (214 kB)\n",
            "\u001b[K     |████████████████████████████████| 214 kB 4.9 MB/s \n",
            "\u001b[?25hRequirement already satisfied: numpy>=1.10.1 in /usr/local/lib/python3.7/dist-packages (from -r /content/Resemblyzer/requirements_demos.txt (line 2)) (1.21.6)\n",
            "Collecting webrtcvad>=2.0.10\n",
            "  Downloading webrtcvad-2.0.10.tar.gz (66 kB)\n",
            "\u001b[K     |████████████████████████████████| 66 kB 3.7 MB/s \n",
            "\u001b[?25hRequirement already satisfied: torch>=1.0.1 in /usr/local/lib/python3.7/dist-packages (from -r /content/Resemblyzer/requirements_demos.txt (line 4)) (1.12.1+cu113)\n",
            "Requirement already satisfied: scipy>=1.2.1 in /usr/local/lib/python3.7/dist-packages (from -r /content/Resemblyzer/requirements_demos.txt (line 5)) (1.7.3)\n",
            "Collecting typing\n",
            "  Downloading typing-3.7.4.3.tar.gz (78 kB)\n",
            "\u001b[K     |████████████████████████████████| 78 kB 6.6 MB/s \n",
            "\u001b[?25hRequirement already satisfied: matplotlib>=3.0.0 in /usr/local/lib/python3.7/dist-packages (from -r /content/Resemblyzer/requirements_demos.txt (line 7)) (3.2.2)\n",
            "Collecting sounddevice\n",
            "  Downloading sounddevice-0.4.5-py3-none-any.whl (31 kB)\n",
            "Requirement already satisfied: tqdm in /usr/local/lib/python3.7/dist-packages (from -r /content/Resemblyzer/requirements_demos.txt (line 9)) (4.64.1)\n",
            "Collecting umap-learn\n",
            "  Downloading umap-learn-0.5.3.tar.gz (88 kB)\n",
            "\u001b[K     |████████████████████████████████| 88 kB 2.8 MB/s \n",
            "\u001b[?25hRequirement already satisfied: packaging>=20.0 in /usr/local/lib/python3.7/dist-packages (from librosa>=0.9.1->-r /content/Resemblyzer/requirements_demos.txt (line 1)) (21.3)\n",
            "Requirement already satisfied: numba>=0.45.1 in /usr/local/lib/python3.7/dist-packages (from librosa>=0.9.1->-r /content/Resemblyzer/requirements_demos.txt (line 1)) (0.56.2)\n",
            "Requirement already satisfied: audioread>=2.1.9 in /usr/local/lib/python3.7/dist-packages (from librosa>=0.9.1->-r /content/Resemblyzer/requirements_demos.txt (line 1)) (3.0.0)\n",
            "Requirement already satisfied: pooch>=1.0 in /usr/local/lib/python3.7/dist-packages (from librosa>=0.9.1->-r /content/Resemblyzer/requirements_demos.txt (line 1)) (1.6.0)\n",
            "Requirement already satisfied: joblib>=0.14 in /usr/local/lib/python3.7/dist-packages (from librosa>=0.9.1->-r /content/Resemblyzer/requirements_demos.txt (line 1)) (1.2.0)\n",
            "Requirement already satisfied: decorator>=4.0.10 in /usr/local/lib/python3.7/dist-packages (from librosa>=0.9.1->-r /content/Resemblyzer/requirements_demos.txt (line 1)) (4.4.2)\n",
            "Requirement already satisfied: resampy>=0.2.2 in /usr/local/lib/python3.7/dist-packages (from librosa>=0.9.1->-r /content/Resemblyzer/requirements_demos.txt (line 1)) (0.4.2)\n",
            "Requirement already satisfied: soundfile>=0.10.2 in /usr/local/lib/python3.7/dist-packages (from librosa>=0.9.1->-r /content/Resemblyzer/requirements_demos.txt (line 1)) (0.11.0)\n",
            "Requirement already satisfied: scikit-learn>=0.19.1 in /usr/local/lib/python3.7/dist-packages (from librosa>=0.9.1->-r /content/Resemblyzer/requirements_demos.txt (line 1)) (1.0.2)\n",
            "Requirement already satisfied: typing-extensions in /usr/local/lib/python3.7/dist-packages (from torch>=1.0.1->-r /content/Resemblyzer/requirements_demos.txt (line 4)) (4.1.1)\n",
            "Requirement already satisfied: kiwisolver>=1.0.1 in /usr/local/lib/python3.7/dist-packages (from matplotlib>=3.0.0->-r /content/Resemblyzer/requirements_demos.txt (line 7)) (1.4.4)\n",
            "Requirement already satisfied: python-dateutil>=2.1 in /usr/local/lib/python3.7/dist-packages (from matplotlib>=3.0.0->-r /content/Resemblyzer/requirements_demos.txt (line 7)) (2.8.2)\n",
            "Requirement already satisfied: cycler>=0.10 in /usr/local/lib/python3.7/dist-packages (from matplotlib>=3.0.0->-r /content/Resemblyzer/requirements_demos.txt (line 7)) (0.11.0)\n",
            "Requirement already satisfied: pyparsing!=2.0.4,!=2.1.2,!=2.1.6,>=2.0.1 in /usr/local/lib/python3.7/dist-packages (from matplotlib>=3.0.0->-r /content/Resemblyzer/requirements_demos.txt (line 7)) (3.0.9)\n",
            "Requirement already satisfied: setuptools<60 in /usr/local/lib/python3.7/dist-packages (from numba>=0.45.1->librosa>=0.9.1->-r /content/Resemblyzer/requirements_demos.txt (line 1)) (57.4.0)\n",
            "Requirement already satisfied: llvmlite<0.40,>=0.39.0dev0 in /usr/local/lib/python3.7/dist-packages (from numba>=0.45.1->librosa>=0.9.1->-r /content/Resemblyzer/requirements_demos.txt (line 1)) (0.39.1)\n",
            "Requirement already satisfied: importlib-metadata in /usr/local/lib/python3.7/dist-packages (from numba>=0.45.1->librosa>=0.9.1->-r /content/Resemblyzer/requirements_demos.txt (line 1)) (5.0.0)\n",
            "Requirement already satisfied: appdirs>=1.3.0 in /usr/local/lib/python3.7/dist-packages (from pooch>=1.0->librosa>=0.9.1->-r /content/Resemblyzer/requirements_demos.txt (line 1)) (1.4.4)\n",
            "Requirement already satisfied: requests>=2.19.0 in /usr/local/lib/python3.7/dist-packages (from pooch>=1.0->librosa>=0.9.1->-r /content/Resemblyzer/requirements_demos.txt (line 1)) (2.23.0)\n",
            "Requirement already satisfied: six>=1.5 in /usr/local/lib/python3.7/dist-packages (from python-dateutil>=2.1->matplotlib>=3.0.0->-r /content/Resemblyzer/requirements_demos.txt (line 7)) (1.15.0)\n",
            "Requirement already satisfied: certifi>=2017.4.17 in /usr/local/lib/python3.7/dist-packages (from requests>=2.19.0->pooch>=1.0->librosa>=0.9.1->-r /content/Resemblyzer/requirements_demos.txt (line 1)) (2022.9.24)\n",
            "Requirement already satisfied: idna<3,>=2.5 in /usr/local/lib/python3.7/dist-packages (from requests>=2.19.0->pooch>=1.0->librosa>=0.9.1->-r /content/Resemblyzer/requirements_demos.txt (line 1)) (2.10)\n",
            "Requirement already satisfied: chardet<4,>=3.0.2 in /usr/local/lib/python3.7/dist-packages (from requests>=2.19.0->pooch>=1.0->librosa>=0.9.1->-r /content/Resemblyzer/requirements_demos.txt (line 1)) (3.0.4)\n",
            "Requirement already satisfied: urllib3!=1.25.0,!=1.25.1,<1.26,>=1.21.1 in /usr/local/lib/python3.7/dist-packages (from requests>=2.19.0->pooch>=1.0->librosa>=0.9.1->-r /content/Resemblyzer/requirements_demos.txt (line 1)) (1.24.3)\n",
            "Requirement already satisfied: threadpoolctl>=2.0.0 in /usr/local/lib/python3.7/dist-packages (from scikit-learn>=0.19.1->librosa>=0.9.1->-r /content/Resemblyzer/requirements_demos.txt (line 1)) (3.1.0)\n",
            "Requirement already satisfied: cffi>=1.0 in /usr/local/lib/python3.7/dist-packages (from soundfile>=0.10.2->librosa>=0.9.1->-r /content/Resemblyzer/requirements_demos.txt (line 1)) (1.15.1)\n",
            "Requirement already satisfied: pycparser in /usr/local/lib/python3.7/dist-packages (from cffi>=1.0->soundfile>=0.10.2->librosa>=0.9.1->-r /content/Resemblyzer/requirements_demos.txt (line 1)) (2.21)\n",
            "Collecting pynndescent>=0.5\n",
            "  Downloading pynndescent-0.5.7.tar.gz (1.1 MB)\n",
            "\u001b[K     |████████████████████████████████| 1.1 MB 4.6 MB/s \n",
            "\u001b[?25hRequirement already satisfied: zipp>=0.5 in /usr/local/lib/python3.7/dist-packages (from importlib-metadata->numba>=0.45.1->librosa>=0.9.1->-r /content/Resemblyzer/requirements_demos.txt (line 1)) (3.9.0)\n",
            "Building wheels for collected packages: webrtcvad, typing, umap-learn, pynndescent\n",
            "  Building wheel for webrtcvad (setup.py) ... \u001b[?25l\u001b[?25hdone\n",
            "  Created wheel for webrtcvad: filename=webrtcvad-2.0.10-cp37-cp37m-linux_x86_64.whl size=72477 sha256=cdcf0ee5882576712de4537bae3f3e6171ca523629e17393bb06d6778dc9d84b\n",
            "  Stored in directory: /root/.cache/pip/wheels/11/f9/67/a3158d131f57e1c0a7d8d966a707d4a2fb27567a4fe47723ad\n",
            "  Building wheel for typing (setup.py) ... \u001b[?25l\u001b[?25hdone\n",
            "  Created wheel for typing: filename=typing-3.7.4.3-py3-none-any.whl size=26325 sha256=e9974d4074526ca9c04dc466ad685a0be1d221a6cdced6c22dd9e5380da650cf\n",
            "  Stored in directory: /root/.cache/pip/wheels/35/f3/15/01aa6571f0a72ee6ae7b827c1491c37a1f72d686fd22b43b0e\n",
            "  Building wheel for umap-learn (setup.py) ... \u001b[?25l\u001b[?25hdone\n",
            "  Created wheel for umap-learn: filename=umap_learn-0.5.3-py3-none-any.whl size=82829 sha256=f5fd9c8abe090484b9cc8033553bf2465ec0ad275ce0f9ca068ae4fb97f2b05a\n",
            "  Stored in directory: /root/.cache/pip/wheels/b3/52/a5/1fd9e3e76a7ab34f134c07469cd6f16e27ef3a37aeff1fe821\n",
            "  Building wheel for pynndescent (setup.py) ... \u001b[?25l\u001b[?25hdone\n",
            "  Created wheel for pynndescent: filename=pynndescent-0.5.7-py3-none-any.whl size=54286 sha256=f25ebf9d05d2cfa3d1ff3f13e6a485fa3b413bdc545ec5d51608869c9d0022ec\n",
            "  Stored in directory: /root/.cache/pip/wheels/7f/2a/f8/7bd5dcec71bd5c669f6f574db3113513696b98f3f9b51f496c\n",
            "Successfully built webrtcvad typing umap-learn pynndescent\n",
            "Installing collected packages: pynndescent, webrtcvad, umap-learn, typing, sounddevice, librosa\n",
            "  Attempting uninstall: librosa\n",
            "    Found existing installation: librosa 0.8.1\n",
            "    Uninstalling librosa-0.8.1:\n",
            "      Successfully uninstalled librosa-0.8.1\n",
            "Successfully installed librosa-0.9.2 pynndescent-0.5.7 sounddevice-0.4.5 typing-3.7.4.3 umap-learn-0.5.3 webrtcvad-2.0.10\n"
          ]
        },
        {
          "output_type": "display_data",
          "data": {
            "application/vnd.colab-display-data+json": {
              "pip_warning": {
                "packages": [
                  "typing"
                ]
              }
            }
          },
          "metadata": {}
        },
        {
          "output_type": "stream",
          "name": "stdout",
          "text": [
            "Looking in indexes: https://pypi.org/simple, https://us-python.pkg.dev/colab-wheels/public/simple/\n",
            "Requirement already satisfied: librosa>=0.9.1 in /usr/local/lib/python3.7/dist-packages (from -r /content/Resemblyzer/requirements_package.txt (line 1)) (0.9.2)\n",
            "Requirement already satisfied: numpy>=1.10.1 in /usr/local/lib/python3.7/dist-packages (from -r /content/Resemblyzer/requirements_package.txt (line 2)) (1.21.6)\n",
            "Requirement already satisfied: webrtcvad>=2.0.10 in /usr/local/lib/python3.7/dist-packages (from -r /content/Resemblyzer/requirements_package.txt (line 3)) (2.0.10)\n",
            "Requirement already satisfied: torch>=1.0.1 in /usr/local/lib/python3.7/dist-packages (from -r /content/Resemblyzer/requirements_package.txt (line 4)) (1.12.1+cu113)\n",
            "Requirement already satisfied: scipy>=1.2.1 in /usr/local/lib/python3.7/dist-packages (from -r /content/Resemblyzer/requirements_package.txt (line 5)) (1.7.3)\n",
            "Requirement already satisfied: typing in /usr/local/lib/python3.7/dist-packages (from -r /content/Resemblyzer/requirements_package.txt (line 6)) (3.7.4.3)\n",
            "Requirement already satisfied: pooch>=1.0 in /usr/local/lib/python3.7/dist-packages (from librosa>=0.9.1->-r /content/Resemblyzer/requirements_package.txt (line 1)) (1.6.0)\n",
            "Requirement already satisfied: numba>=0.45.1 in /usr/local/lib/python3.7/dist-packages (from librosa>=0.9.1->-r /content/Resemblyzer/requirements_package.txt (line 1)) (0.56.2)\n",
            "Requirement already satisfied: audioread>=2.1.9 in /usr/local/lib/python3.7/dist-packages (from librosa>=0.9.1->-r /content/Resemblyzer/requirements_package.txt (line 1)) (3.0.0)\n",
            "Requirement already satisfied: joblib>=0.14 in /usr/local/lib/python3.7/dist-packages (from librosa>=0.9.1->-r /content/Resemblyzer/requirements_package.txt (line 1)) (1.2.0)\n",
            "Requirement already satisfied: resampy>=0.2.2 in /usr/local/lib/python3.7/dist-packages (from librosa>=0.9.1->-r /content/Resemblyzer/requirements_package.txt (line 1)) (0.4.2)\n",
            "Requirement already satisfied: scikit-learn>=0.19.1 in /usr/local/lib/python3.7/dist-packages (from librosa>=0.9.1->-r /content/Resemblyzer/requirements_package.txt (line 1)) (1.0.2)\n",
            "Requirement already satisfied: decorator>=4.0.10 in /usr/local/lib/python3.7/dist-packages (from librosa>=0.9.1->-r /content/Resemblyzer/requirements_package.txt (line 1)) (4.4.2)\n",
            "Requirement already satisfied: soundfile>=0.10.2 in /usr/local/lib/python3.7/dist-packages (from librosa>=0.9.1->-r /content/Resemblyzer/requirements_package.txt (line 1)) (0.11.0)\n",
            "Requirement already satisfied: packaging>=20.0 in /usr/local/lib/python3.7/dist-packages (from librosa>=0.9.1->-r /content/Resemblyzer/requirements_package.txt (line 1)) (21.3)\n",
            "Requirement already satisfied: typing-extensions in /usr/local/lib/python3.7/dist-packages (from torch>=1.0.1->-r /content/Resemblyzer/requirements_package.txt (line 4)) (4.1.1)\n",
            "Requirement already satisfied: importlib-metadata in /usr/local/lib/python3.7/dist-packages (from numba>=0.45.1->librosa>=0.9.1->-r /content/Resemblyzer/requirements_package.txt (line 1)) (5.0.0)\n",
            "Requirement already satisfied: llvmlite<0.40,>=0.39.0dev0 in /usr/local/lib/python3.7/dist-packages (from numba>=0.45.1->librosa>=0.9.1->-r /content/Resemblyzer/requirements_package.txt (line 1)) (0.39.1)\n",
            "Requirement already satisfied: setuptools<60 in /usr/local/lib/python3.7/dist-packages (from numba>=0.45.1->librosa>=0.9.1->-r /content/Resemblyzer/requirements_package.txt (line 1)) (57.4.0)\n",
            "Requirement already satisfied: pyparsing!=3.0.5,>=2.0.2 in /usr/local/lib/python3.7/dist-packages (from packaging>=20.0->librosa>=0.9.1->-r /content/Resemblyzer/requirements_package.txt (line 1)) (3.0.9)\n",
            "Requirement already satisfied: appdirs>=1.3.0 in /usr/local/lib/python3.7/dist-packages (from pooch>=1.0->librosa>=0.9.1->-r /content/Resemblyzer/requirements_package.txt (line 1)) (1.4.4)\n",
            "Requirement already satisfied: requests>=2.19.0 in /usr/local/lib/python3.7/dist-packages (from pooch>=1.0->librosa>=0.9.1->-r /content/Resemblyzer/requirements_package.txt (line 1)) (2.23.0)\n",
            "Requirement already satisfied: certifi>=2017.4.17 in /usr/local/lib/python3.7/dist-packages (from requests>=2.19.0->pooch>=1.0->librosa>=0.9.1->-r /content/Resemblyzer/requirements_package.txt (line 1)) (2022.9.24)\n",
            "Requirement already satisfied: chardet<4,>=3.0.2 in /usr/local/lib/python3.7/dist-packages (from requests>=2.19.0->pooch>=1.0->librosa>=0.9.1->-r /content/Resemblyzer/requirements_package.txt (line 1)) (3.0.4)\n",
            "Requirement already satisfied: urllib3!=1.25.0,!=1.25.1,<1.26,>=1.21.1 in /usr/local/lib/python3.7/dist-packages (from requests>=2.19.0->pooch>=1.0->librosa>=0.9.1->-r /content/Resemblyzer/requirements_package.txt (line 1)) (1.24.3)\n",
            "Requirement already satisfied: idna<3,>=2.5 in /usr/local/lib/python3.7/dist-packages (from requests>=2.19.0->pooch>=1.0->librosa>=0.9.1->-r /content/Resemblyzer/requirements_package.txt (line 1)) (2.10)\n",
            "Requirement already satisfied: threadpoolctl>=2.0.0 in /usr/local/lib/python3.7/dist-packages (from scikit-learn>=0.19.1->librosa>=0.9.1->-r /content/Resemblyzer/requirements_package.txt (line 1)) (3.1.0)\n",
            "Requirement already satisfied: cffi>=1.0 in /usr/local/lib/python3.7/dist-packages (from soundfile>=0.10.2->librosa>=0.9.1->-r /content/Resemblyzer/requirements_package.txt (line 1)) (1.15.1)\n",
            "Requirement already satisfied: pycparser in /usr/local/lib/python3.7/dist-packages (from cffi>=1.0->soundfile>=0.10.2->librosa>=0.9.1->-r /content/Resemblyzer/requirements_package.txt (line 1)) (2.21)\n",
            "Requirement already satisfied: zipp>=0.5 in /usr/local/lib/python3.7/dist-packages (from importlib-metadata->numba>=0.45.1->librosa>=0.9.1->-r /content/Resemblyzer/requirements_package.txt (line 1)) (3.9.0)\n",
            "Looking in indexes: https://pypi.org/simple, https://us-python.pkg.dev/colab-wheels/public/simple/\n",
            "Collecting ffmpeg-python\n",
            "  Downloading ffmpeg_python-0.2.0-py3-none-any.whl (25 kB)\n",
            "Requirement already satisfied: future in /usr/local/lib/python3.7/dist-packages (from ffmpeg-python) (0.16.0)\n",
            "Installing collected packages: ffmpeg-python\n",
            "Successfully installed ffmpeg-python-0.2.0\n"
          ]
        }
      ]
    },
    {
      "cell_type": "code",
      "source": [
        "%cd Resemblyzer/\n",
        "from mpl_toolkits.axes_grid1 import make_axes_locatable\n",
        "from matplotlib.animation import FuncAnimation\n",
        "from resemblyzer import sampling_rate, preprocess_wav, VoiceEncoder\n",
        "from matplotlib import cm\n",
        "from time import sleep, perf_counter as timer\n",
        "from umap import UMAP\n",
        "from sys import stderr\n",
        "from demo_utils import *\n",
        "from itertools import groupby\n",
        "from pathlib import Path\n",
        "from tqdm import tqdm\n",
        "import numpy as np\n",
        "import matplotlib.pyplot as plt\n",
        "import scipy\n",
        "\n",
        "_default_colors = plt.rcParams[\"axes.prop_cycle\"].by_key()[\"color\"]\n",
        "_my_colors = np.array([\n",
        "    [0, 127, 70],\n",
        "    [255, 217, 38],\n",
        "    [0, 135, 255],\n",
        "    [165, 0, 165],\n",
        "    [255, 167, 255],\n",
        "    [97, 142, 151],\n",
        "    [0, 255, 255],\n",
        "    [255, 96, 38],\n",
        "    [142, 76, 0],\n",
        "    [33, 0, 127],\n",
        "    [0, 0, 0],\n",
        "    [255, 0, 0],\n",
        "    [183, 183, 183],\n",
        "    [76, 255, 0],\n",
        "], dtype=np.float) / 255 \n",
        "\n",
        "def plot_projections(embeds, speakers, ax=None, colors=None, markers=None, legend=True, \n",
        "                     title=\"\", **kwargs):\n",
        "    if ax is None:\n",
        "        _, ax = plt.subplots(figsize=(30, 10))\n",
        "        \n",
        "    # Compute the 2D projections. You could also project to another number of dimensions (e.g. \n",
        "    # for a 3D plot) or use a different different dimensionality reduction like PCA or TSNE.\n",
        "    reducer = UMAP(**kwargs)\n",
        "    projs = reducer.fit_transform(embeds)\n",
        "    \n",
        "    # Draw the projections\n",
        "    speakers = np.array(speakers)\n",
        "    colors = colors or _my_colors\n",
        "    for i, speaker in enumerate(np.unique(speakers)):\n",
        "        speaker_projs = projs[speakers == speaker]\n",
        "        marker = \"o\" if markers is None else markers[i]\n",
        "        label = speaker if legend else None\n",
        "        ax.scatter(*speaker_projs.T, c=[colors[i]], marker=marker, label=label)\n",
        "\n",
        "    if legend:\n",
        "        ax.legend(title=\"Speakers\", ncol=2)\n",
        "    ax.set_title(title)\n",
        "    ax.set_xticks([])\n",
        "    ax.set_yticks([])\n",
        "    ax.set_aspect(\"equal\")\n",
        "    \n",
        "    return projs"
      ],
      "metadata": {
        "colab": {
          "base_uri": "https://localhost:8080/"
        },
        "id": "98KPLPI6yJMB",
        "outputId": "af8ee5a9-af02-4c2d-d8df-3da0eb897f48"
      },
      "execution_count": null,
      "outputs": [
        {
          "output_type": "stream",
          "name": "stdout",
          "text": [
            "/content/Resemblyzer\n"
          ]
        },
        {
          "output_type": "stream",
          "name": "stderr",
          "text": [
            "/usr/local/lib/python3.7/dist-packages/ipykernel_launcher.py:33: DeprecationWarning: `np.float` is a deprecated alias for the builtin `float`. To silence this warning, use `float` by itself. Doing this will not modify any behavior and is safe. If you specifically wanted the numpy scalar type, use `np.float64` here.\n",
            "Deprecated in NumPy 1.20; for more details and guidance: https://numpy.org/devdocs/release/1.20.0-notes.html#deprecations\n"
          ]
        }
      ]
    },
    {
      "cell_type": "markdown",
      "source": [
        "## Create your dataset\n",
        "The next cells allow you to create a dataset of audio recordings. Later we will plot the embedding space of the dataset. You should use the label and recordings cells recursively to create a multi label dataset. Create a label and record several utterances for that label, then repeat this with another label.\n",
        "\n",
        "We leave the labelling up to you. Perhaps you could start with each member of your group speaking the same text, or if you are working alone, you might try repeating the same phrases with different stresses on your voice and see where they sit in the embedding space. \n",
        "\n",
        "If you're familiar with how to upload files to a Colab notebook (if you'd like be just ask us) it's also possible to upload a dataset. Make sure your dataset follows the file path convention `content/Resemblyzer/audio_data/<your-data-set-name>/<label-name>/<your-recording01>.wav` and proceed to the embedding cell."
      ],
      "metadata": {
        "id": "yBtcPeK9zz3k"
      }
    },
    {
      "cell_type": "code",
      "source": [
        "#@title Prep for recording\n",
        "#@markdown Importing method for recording inline, run this cell only once.\n",
        "# Method is from https://colab.research.google.com/drive/1Z6VIRZ_sX314hyev3Gm5gBqvm1wQVo-a#scrollTo=57xW3GSb6gv0 , only edited button messages\n",
        "\n",
        "\"\"\"\n",
        "To write this piece of code I took inspiration/code from a lot of places.\n",
        "It was late night, so I'm not sure how much I created or just copied o.O\n",
        "Here are some of the possible references:\n",
        "https://blog.addpipe.com/recording-audio-in-the-browser-using-pure-html5-and-minimal-javascript/\n",
        "https://stackoverflow.com/a/18650249\n",
        "https://hacks.mozilla.org/2014/06/easy-audio-capture-with-the-mediarecorder-api/\n",
        "https://air.ghost.io/recording-to-an-audio-file-using-html5-and-js/\n",
        "https://stackoverflow.com/a/49019356\n",
        "\"\"\"\n",
        "from IPython.display import HTML, Audio\n",
        "from google.colab.output import eval_js\n",
        "from base64 import b64decode\n",
        "import numpy as np\n",
        "from scipy.io.wavfile import read as wav_read\n",
        "import io\n",
        "import ffmpeg\n",
        "\n",
        "AUDIO_HTML = \"\"\"\n",
        "<script>\n",
        "var my_div = document.createElement(\"DIV\");\n",
        "var my_p = document.createElement(\"P\");\n",
        "var my_btn = document.createElement(\"BUTTON\");\n",
        "var t = document.createTextNode(\"Press to start recording\");\n",
        "\n",
        "my_btn.appendChild(t);\n",
        "//my_p.appendChild(my_btn);\n",
        "my_div.appendChild(my_btn);\n",
        "document.body.appendChild(my_div);\n",
        "\n",
        "var base64data = 0;\n",
        "var reader;\n",
        "var recorder, gumStream;\n",
        "var recordButton = my_btn;\n",
        "\n",
        "var handleSuccess = function(stream) {\n",
        "  gumStream = stream;\n",
        "  var options = {\n",
        "    //bitsPerSecond: 8000, //chrome seems to ignore, always 48k\n",
        "    mimeType : 'audio/webm;codecs=opus'\n",
        "    //mimeType : 'audio/webm;codecs=pcm'\n",
        "  };            \n",
        "  //recorder = new MediaRecorder(stream, options);\n",
        "  recorder = new MediaRecorder(stream);\n",
        "  recorder.ondataavailable = function(e) {            \n",
        "    var url = URL.createObjectURL(e.data);\n",
        "    var preview = document.createElement('audio');\n",
        "    preview.controls = true;\n",
        "    preview.src = url;\n",
        "    document.body.appendChild(preview);\n",
        "\n",
        "    reader = new FileReader();\n",
        "    reader.readAsDataURL(e.data); \n",
        "    reader.onloadend = function() {\n",
        "      base64data = reader.result;\n",
        "      //console.log(\"Inside FileReader:\" + base64data);\n",
        "    }\n",
        "  };\n",
        "  recorder.start();\n",
        "  };\n",
        "\n",
        "recordButton.innerText = \"Press to stop recording\";\n",
        "\n",
        "navigator.mediaDevices.getUserMedia({audio: true}).then(handleSuccess);\n",
        "\n",
        "\n",
        "function toggleRecording() {\n",
        "  if (recorder && recorder.state == \"recording\") {\n",
        "      recorder.stop();\n",
        "      gumStream.getAudioTracks()[0].stop();\n",
        "      recordButton.innerText = \"Saving the recording\"\n",
        "  }\n",
        "}\n",
        "\n",
        "// https://stackoverflow.com/a/951057\n",
        "function sleep(ms) {\n",
        "  return new Promise(resolve => setTimeout(resolve, ms));\n",
        "}\n",
        "\n",
        "var data = new Promise(resolve=>{\n",
        "//recordButton.addEventListener(\"click\", toggleRecording);\n",
        "recordButton.onclick = ()=>{\n",
        "toggleRecording()\n",
        "\n",
        "sleep(2000).then(() => {\n",
        "  // wait 2000ms for the data to be available...\n",
        "  // ideally this should use something like await...\n",
        "  //console.log(\"Inside data:\" + base64data)\n",
        "  resolve(base64data.toString())\n",
        "\n",
        "});\n",
        "\n",
        "}\n",
        "});\n",
        "      \n",
        "</script>\n",
        "\"\"\"\n",
        "\n",
        "def get_audio():\n",
        "  display(HTML(AUDIO_HTML))\n",
        "  data = eval_js(\"data\")\n",
        "  binary = b64decode(data.split(',')[1])\n",
        "  \n",
        "  process = (ffmpeg\n",
        "    .input('pipe:0')\n",
        "    .output('pipe:1', format='wav')\n",
        "    .run_async(pipe_stdin=True, pipe_stdout=True, pipe_stderr=True, quiet=True, overwrite_output=True)\n",
        "  )\n",
        "  output, err = process.communicate(input=binary)\n",
        "  \n",
        "  riff_chunk_size = len(output) - 8\n",
        "  # Break up the chunk size into four bytes, held in b.\n",
        "  q = riff_chunk_size\n",
        "  b = []\n",
        "  for i in range(4):\n",
        "      q, r = divmod(q, 256)\n",
        "      b.append(r)\n",
        "\n",
        "  # Replace bytes 4:8 in proc.stdout with the actual size of the RIFF chunk.\n",
        "  riff = output[:4] + bytes(b) + output[8:]\n",
        "\n",
        "  sr, audio = wav_read(io.BytesIO(riff))\n",
        "\n",
        "  return audio, sr"
      ],
      "metadata": {
        "id": "DXyJ_dN87i-x",
        "cellView": "form"
      },
      "execution_count": null,
      "outputs": []
    },
    {
      "cell_type": "code",
      "source": [
        "#@title Create your recording directory\n",
        "#@markdown Name your dataset (avoid spaces or special character as they will break the logic in the next cells). You can create multiple datasets by running this cell more than once, however, the code below will use the most recently created dataset by default. Feel free to change the code if you'd like to use a different logic.\n",
        "name = \"embeddings-dataset\" #@param {type:\"string\"}\n",
        "dir_path = '/content/Resemblyzer/audio_data/' + name\n",
        "!mkdir $dir_path\n",
        "print(\"New directory created at: \" + dir_path)"
      ],
      "metadata": {
        "colab": {
          "base_uri": "https://localhost:8080/"
        },
        "cellView": "form",
        "id": "0Vd4QGG22chO",
        "outputId": "dea19436-40c9-4ba3-b60d-b2874e825dec"
      },
      "execution_count": null,
      "outputs": [
        {
          "output_type": "stream",
          "name": "stdout",
          "text": [
            "New directory created at: /content/Resemblyzer/audio_data/embeddings-dataset\n"
          ]
        }
      ]
    },
    {
      "cell_type": "code",
      "source": [
        "#@title Choose a label\n",
        "#@markdown Name your label (avoid spaces or special character as they will break the logic in the next cells).\n",
        "label = \"second-label\" #@param {type:\"string\"}\n",
        "rec_path = dir_path + '/' + label\n",
        "!mkdir $rec_path\n",
        "print(\"New directory created at: \" + rec_path)"
      ],
      "metadata": {
        "colab": {
          "base_uri": "https://localhost:8080/"
        },
        "cellView": "form",
        "id": "l80hSZ8I3hiB",
        "outputId": "7f6027e9-8a27-4e25-cc62-3bf6ada8238b"
      },
      "execution_count": null,
      "outputs": [
        {
          "output_type": "stream",
          "name": "stdout",
          "text": [
            "New directory created at: /content/Resemblyzer/audio_data/embeddings-dataset/second-label\n"
          ]
        }
      ]
    },
    {
      "cell_type": "code",
      "source": [
        "#@title Record your audio\n",
        "#@markdown Start the recording by running the cell. Stop the recording using the button.\n",
        "#@markdown You may need to give your browser permission to access your microphone. Create as many recordings as you would like for the current label. When you're done creating records for this label, enter a new name in field in the cell above and reapeat the process. \n",
        "from datetime import datetime\n",
        "audio, sr = get_audio()\n",
        "time = datetime.now().strftime(\"%H%M%S\")\n",
        "ext = '.wav'\n",
        "full_rec_path = rec_path + '/' + 'recording' + time + ext\n",
        "\n",
        "# save the audio\n",
        "scipy.io.wavfile.write(full_rec_path, sr, audio)\n",
        "print(\"New recorded created at: \" + full_rec_path)"
      ],
      "metadata": {
        "colab": {
          "base_uri": "https://localhost:8080/",
          "height": 114
        },
        "id": "q5TuryHx8CQb",
        "outputId": "cffdc609-8675-4e32-a388-680f51ce3c6b",
        "cellView": "form"
      },
      "execution_count": null,
      "outputs": [
        {
          "output_type": "display_data",
          "data": {
            "text/plain": [
              "<IPython.core.display.HTML object>"
            ],
            "text/html": [
              "\n",
              "<script>\n",
              "var my_div = document.createElement(\"DIV\");\n",
              "var my_p = document.createElement(\"P\");\n",
              "var my_btn = document.createElement(\"BUTTON\");\n",
              "var t = document.createTextNode(\"Press to start recording\");\n",
              "\n",
              "my_btn.appendChild(t);\n",
              "//my_p.appendChild(my_btn);\n",
              "my_div.appendChild(my_btn);\n",
              "document.body.appendChild(my_div);\n",
              "\n",
              "var base64data = 0;\n",
              "var reader;\n",
              "var recorder, gumStream;\n",
              "var recordButton = my_btn;\n",
              "\n",
              "var handleSuccess = function(stream) {\n",
              "  gumStream = stream;\n",
              "  var options = {\n",
              "    //bitsPerSecond: 8000, //chrome seems to ignore, always 48k\n",
              "    mimeType : 'audio/webm;codecs=opus'\n",
              "    //mimeType : 'audio/webm;codecs=pcm'\n",
              "  };            \n",
              "  //recorder = new MediaRecorder(stream, options);\n",
              "  recorder = new MediaRecorder(stream);\n",
              "  recorder.ondataavailable = function(e) {            \n",
              "    var url = URL.createObjectURL(e.data);\n",
              "    var preview = document.createElement('audio');\n",
              "    preview.controls = true;\n",
              "    preview.src = url;\n",
              "    document.body.appendChild(preview);\n",
              "\n",
              "    reader = new FileReader();\n",
              "    reader.readAsDataURL(e.data); \n",
              "    reader.onloadend = function() {\n",
              "      base64data = reader.result;\n",
              "      //console.log(\"Inside FileReader:\" + base64data);\n",
              "    }\n",
              "  };\n",
              "  recorder.start();\n",
              "  };\n",
              "\n",
              "recordButton.innerText = \"Press to stop recording\";\n",
              "\n",
              "navigator.mediaDevices.getUserMedia({audio: true}).then(handleSuccess);\n",
              "\n",
              "\n",
              "function toggleRecording() {\n",
              "  if (recorder && recorder.state == \"recording\") {\n",
              "      recorder.stop();\n",
              "      gumStream.getAudioTracks()[0].stop();\n",
              "      recordButton.innerText = \"Saving the recording\"\n",
              "  }\n",
              "}\n",
              "\n",
              "// https://stackoverflow.com/a/951057\n",
              "function sleep(ms) {\n",
              "  return new Promise(resolve => setTimeout(resolve, ms));\n",
              "}\n",
              "\n",
              "var data = new Promise(resolve=>{\n",
              "//recordButton.addEventListener(\"click\", toggleRecording);\n",
              "recordButton.onclick = ()=>{\n",
              "toggleRecording()\n",
              "\n",
              "sleep(2000).then(() => {\n",
              "  // wait 2000ms for the data to be available...\n",
              "  // ideally this should use something like await...\n",
              "  //console.log(\"Inside data:\" + base64data)\n",
              "  resolve(base64data.toString())\n",
              "\n",
              "});\n",
              "\n",
              "}\n",
              "});\n",
              "      \n",
              "</script>\n"
            ]
          },
          "metadata": {}
        },
        {
          "output_type": "stream",
          "name": "stdout",
          "text": [
            "New recorded created at: /content/Resemblyzer/audio_data/embeddings-dataset/second-label/recording111930.wav\n"
          ]
        }
      ]
    },
    {
      "cell_type": "markdown",
      "source": [
        "## Encode and analyse audio"
      ],
      "metadata": {
        "id": "aaN6CeKlz_tj"
      }
    },
    {
      "cell_type": "code",
      "source": [
        "## Gather the wavs\n",
        "wav_fpaths = list(Path(\"audio_data\", dir_path).glob(\"**/*.wav\"))\n",
        "speakers = list(map(lambda wav_fpath: wav_fpath.parent.stem, wav_fpaths))\n",
        "wavs = np.array(list(map(preprocess_wav, tqdm(wav_fpaths, \"Preprocessing wavs\", len(wav_fpaths)))))\n",
        "speaker_wavs = {speaker: wavs[list(indices)] for speaker, indices in \n",
        "                groupby(range(len(wavs)), lambda i: speakers[i])}"
      ],
      "metadata": {
        "id": "odaUXsx5-_G1",
        "outputId": "e6036806-4d48-46f0-c1b1-ebd81bbce29a",
        "colab": {
          "base_uri": "https://localhost:8080/"
        }
      },
      "execution_count": null,
      "outputs": [
        {
          "output_type": "stream",
          "name": "stderr",
          "text": [
            "Preprocessing wavs: 100%|██████████| 7/7 [00:02<00:00,  2.37it/s]\n",
            "/usr/local/lib/python3.7/dist-packages/ipykernel_launcher.py:4: VisibleDeprecationWarning: Creating an ndarray from ragged nested sequences (which is a list-or-tuple of lists-or-tuples-or ndarrays with different lengths or shapes) is deprecated. If you meant to do this, you must specify 'dtype=object' when creating the ndarray.\n",
            "  after removing the cwd from sys.path.\n"
          ]
        }
      ]
    },
    {
      "cell_type": "code",
      "source": [
        "## Compute the embeddings\n",
        "encoder = VoiceEncoder()\n",
        "utterance_embeds = np.array(list(map(encoder.embed_utterance, wavs)))"
      ],
      "metadata": {
        "colab": {
          "base_uri": "https://localhost:8080/"
        },
        "id": "gLqMnqrDadzD",
        "outputId": "0840b5f5-e1fe-4695-94ee-abb1ed3e6978"
      },
      "execution_count": null,
      "outputs": [
        {
          "output_type": "stream",
          "name": "stdout",
          "text": [
            "Loaded the voice encoder model on cpu in 0.05 seconds.\n"
          ]
        }
      ]
    },
    {
      "cell_type": "markdown",
      "source": [
        "## Plot Embeddings"
      ],
      "metadata": {
        "id": "f5hykBByz7dQ"
      }
    },
    {
      "cell_type": "code",
      "source": [
        "## Project the embeddings in 2D space\n",
        "plot_projections(utterance_embeds, speakers, title=\"Embedding projections\")\n",
        "plt.show()"
      ],
      "metadata": {
        "id": "ElpejUE2X-ik",
        "colab": {
          "base_uri": "https://localhost:8080/",
          "height": 629
        },
        "outputId": "1eaed15b-5730-4b60-8d25-4af7436b5d37"
      },
      "execution_count": null,
      "outputs": [
        {
          "output_type": "stream",
          "name": "stderr",
          "text": [
            "/usr/local/lib/python3.7/dist-packages/umap/umap_.py:2345: UserWarning: n_neighbors is larger than the dataset size; truncating to X.shape[0] - 1\n",
            "  \"n_neighbors is larger than the dataset size; truncating to \"\n"
          ]
        },
        {
          "output_type": "display_data",
          "data": {
            "text/plain": [
              "<Figure size 2160x720 with 1 Axes>"
            ],
            "image/png": "[encoded data removed]"
          },
          "metadata": {}
        }
      ]
    }
  ]
}